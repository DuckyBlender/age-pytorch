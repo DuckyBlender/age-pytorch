{
 "cells": [
  {
   "cell_type": "code",
   "execution_count": 17,
   "metadata": {},
   "outputs": [],
   "source": [
    "import random\n",
    "import torch\n",
    "\n",
    "# Generate synthetic data\n",
    "data = []\n",
    "for i in range(10000):\n",
    "    age = random.randint(0, 100)\n",
    "    age = torch.tensor(age, dtype=torch.float32)\n",
    "    \n",
    "    age = age / 100\n",
    "    data.append((age, age))\n",
    "\n",
    "# Save data to a file\n",
    "with open(\"age_data.txt\", \"w\") as f:\n",
    "    for age, label in data:\n",
    "        f.write(f\"{age}\\t{label}\\n\")\n"
   ]
  },
  {
   "cell_type": "code",
   "execution_count": 18,
   "metadata": {},
   "outputs": [],
   "source": [
    "import torch.nn as nn\n",
    "\n",
    "\n",
    "class AgeModel(nn.Module):\n",
    "    def __init__(self):\n",
    "        super(AgeModel, self).__init__()\n",
    "        self.fc1 = nn.Linear(1, 10)\n",
    "        self.fc2 = nn.Linear(10, 1)\n",
    "\n",
    "    def forward(self, x):\n",
    "        x = nn.functional.relu(self.fc1(x))\n",
    "        x = self.fc2(x)\n",
    "        return x\n",
    "    \n",
    "\n",
    "def predict_age(model, age):\n",
    "    with torch.no_grad():\n",
    "        x = torch.tensor([age]).reshape(-1, 1)\n",
    "        y_pred = model(x)\n",
    "        return y_pred.item()\n"
   ]
  },
  {
   "cell_type": "code",
   "execution_count": 59,
   "metadata": {},
   "outputs": [
    {
     "name": "stdout",
     "output_type": "stream",
     "text": [
      "Epoch 1: Train Loss = 0.0318, Val Loss = 0.0006\n",
      "Epoch 2: Train Loss = 0.0322, Val Loss = 0.0004\n",
      "Epoch 3: Train Loss = 0.0175, Val Loss = 0.0003\n",
      "Epoch 4: Train Loss = 0.0137, Val Loss = 0.0002\n",
      "Epoch 5: Train Loss = 0.0115, Val Loss = 0.0002\n",
      "Epoch 6: Train Loss = 0.0054, Val Loss = 0.0001\n",
      "Epoch 7: Train Loss = 0.0052, Val Loss = 0.0001\n",
      "Epoch 8: Train Loss = 0.0030, Val Loss = 0.0000\n",
      "Epoch 9: Train Loss = 0.0018, Val Loss = 0.0000\n",
      "Epoch 10: Train Loss = 0.0012, Val Loss = 0.0000\n",
      "Epoch 11: Train Loss = 0.0005, Val Loss = 0.0000\n",
      "Epoch 12: Train Loss = 0.0003, Val Loss = 0.0000\n",
      "Epoch 13: Train Loss = 0.0002, Val Loss = 0.0000\n",
      "Epoch 14: Train Loss = 0.0001, Val Loss = 0.0000\n",
      "Epoch 15: Train Loss = 0.0001, Val Loss = 0.0000\n",
      "Epoch 16: Train Loss = 0.0000, Val Loss = 0.0000\n",
      "Epoch 17: Train Loss = 0.0000, Val Loss = 0.0000\n",
      "Epoch 18: Train Loss = 0.0000, Val Loss = 0.0000\n",
      "Epoch 19: Train Loss = 0.0000, Val Loss = 0.0000\n",
      "Epoch 20: Train Loss = 0.0000, Val Loss = 0.0000\n"
     ]
    }
   ],
   "source": [
    "import torch.optim as optim\n",
    "\n",
    "# Define hyperparameters\n",
    "learning_rate = 0.01\n",
    "batch_size = 64\n",
    "num_epochs = 20\n",
    "\n",
    "# Load data\n",
    "data = []\n",
    "with open(\"age_data.txt\", \"r\") as f:\n",
    "    for line in f:\n",
    "        age, label = line.strip().split(\"\\t\")\n",
    "        data.append((float(age), float(label)))\n",
    "\n",
    "# Split data into training and validation sets\n",
    "split_idx = int(len(data) * 0.8)\n",
    "train_data = data[:split_idx]\n",
    "val_data = data[split_idx:]\n",
    "\n",
    "# Define model, loss function, and optimizer\n",
    "model = AgeModel()\n",
    "criterion = nn.MSELoss()\n",
    "optimizer = optim.SGD(model.parameters(), lr=learning_rate)\n",
    "\n",
    "# Train the model\n",
    "for epoch in range(num_epochs):\n",
    "    # Shuffle training data\n",
    "    random.shuffle(train_data)\n",
    "\n",
    "    # Train on batches\n",
    "    for i in range(0, len(train_data), batch_size):\n",
    "        batch = train_data[i:i+batch_size]\n",
    "        x = torch.tensor([d[0] for d in batch]).reshape(-1, 1)\n",
    "        y = torch.tensor([d[1] for d in batch]).reshape(-1, 1)\n",
    "\n",
    "        optimizer.zero_grad()\n",
    "        outputs = model(x)\n",
    "        loss = criterion(outputs, y)\n",
    "        loss.backward()\n",
    "        optimizer.step()\n",
    "\n",
    "    # Compute validation loss\n",
    "    val_loss = 0\n",
    "    with torch.no_grad():\n",
    "        for i in range(0, len(val_data), batch_size):\n",
    "            batch = val_data[i:i+batch_size]\n",
    "            x = torch.tensor([d[0] for d in batch]).reshape(-1, 1)\n",
    "            y = torch.tensor([d[1] for d in batch]).reshape(-1, 1)\n",
    "\n",
    "            outputs = model(x)\n",
    "            val_loss += criterion(outputs, y).item()\n",
    "\n",
    "    # Print training and validation loss for the current epoch\n",
    "    print(\n",
    "        f\"Epoch {epoch+1}: Train Loss = {loss.item():.4f}, Val Loss = {val_loss/len(val_data):.4f}\")\n"
   ]
  },
  {
   "cell_type": "code",
   "execution_count": 61,
   "metadata": {},
   "outputs": [
    {
     "name": "stdout",
     "output_type": "stream",
     "text": [
      "Predicted age: 26\n"
     ]
    }
   ],
   "source": [
    "# Predict age based on user input\n",
    "age = float(input(\"Enter your age: \"))\n",
    "age = age / 100\n",
    "predicted_age = predict_age(model, age)\n",
    "predicted_age = predicted_age * 100\n",
    "print(f\"Predicted age: {predicted_age:.0f}\")\n"
   ]
  }
 ],
 "metadata": {
  "kernelspec": {
   "display_name": "Python 3",
   "language": "python",
   "name": "python3"
  },
  "language_info": {
   "codemirror_mode": {
    "name": "ipython",
    "version": 3
   },
   "file_extension": ".py",
   "mimetype": "text/x-python",
   "name": "python",
   "nbconvert_exporter": "python",
   "pygments_lexer": "ipython3",
   "version": "3.10.8"
  },
  "orig_nbformat": 4
 },
 "nbformat": 4,
 "nbformat_minor": 2
}
