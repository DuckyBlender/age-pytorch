{
 "cells": [
  {
   "attachments": {},
   "cell_type": "markdown",
   "metadata": {},
   "source": [
    "Install dependencies"
   ]
  },
  {
   "cell_type": "code",
   "execution_count": null,
   "metadata": {},
   "outputs": [],
   "source": [
    "%pip install torch torchvision torchaudio\n",
    "%pip install jupyter\n",
    "%pip install ipywidgets widgetsnbextension pandas-profiling"
   ]
  },
  {
   "attachments": {},
   "cell_type": "markdown",
   "metadata": {},
   "source": [
    "Generate 10,000 examples of age-label pairs, where the label is the same as the age. We save this data to a file called \"age_data.txt\"."
   ]
  },
  {
   "cell_type": "code",
   "execution_count": null,
   "metadata": {},
   "outputs": [],
   "source": [
    "import random\n",
    "import torch\n",
    "\n",
    "# Generate synthetic data\n",
    "data = []\n",
    "for i in range(10000):\n",
    "    age = random.randint(0, 100)\n",
    "    age = torch.tensor(age, dtype=torch.float32)\n",
    "    \n",
    "    age = age / 100\n",
    "    data.append((age, age))\n",
    "\n",
    "# Save data to a file\n",
    "with open(\"age_data.txt\", \"w\") as f:\n",
    "    for age, label in data:\n",
    "        f.write(f\"{age}\\t{label}\\n\")\n"
   ]
  },
  {
   "attachments": {},
   "cell_type": "markdown",
   "metadata": {},
   "source": [
    "Define pytorch model and the predict_age function"
   ]
  },
  {
   "cell_type": "code",
   "execution_count": null,
   "metadata": {},
   "outputs": [],
   "source": [
    "import torch.nn as nn\n",
    "\n",
    "\n",
    "class AgeModel(nn.Module):\n",
    "    def __init__(self):\n",
    "        super(AgeModel, self).__init__()\n",
    "        self.fc1 = nn.Linear(1, 1)\n",
    "        # this model has the following structure:\n",
    "        # input -> one neuron -> output\n",
    "\n",
    "    def forward(self, x):\n",
    "        x = nn.functional.relu(self.fc1(x))\n",
    "        return x\n",
    "    \n",
    "\n",
    "def predict_age(model, age):\n",
    "    with torch.no_grad():\n",
    "        x = torch.tensor([age]).reshape(-1, 1)\n",
    "        y_pred = model(x)\n",
    "        return y_pred.item()\n"
   ]
  },
  {
   "attachments": {},
   "cell_type": "markdown",
   "metadata": {},
   "source": [
    "This model consists of two linear layers with ReLU activation in between. We will use mean squared error (MSE) as our loss function and stochastic gradient descent (SGD) as our optimizer."
   ]
  },
  {
   "attachments": {},
   "cell_type": "markdown",
   "metadata": {},
   "source": [
    "Train the model"
   ]
  },
  {
   "cell_type": "code",
   "execution_count": null,
   "metadata": {},
   "outputs": [],
   "source": [
    "import torch.optim as optim\n",
    "\n",
    "# Define hyperparameters\n",
    "learning_rate = 0.01\n",
    "batch_size = 64\n",
    "num_epochs = 100\n",
    "\n",
    "# Load data\n",
    "data = []\n",
    "with open(\"age_data.txt\", \"r\") as f:\n",
    "    for line in f:\n",
    "        age, label = line.strip().split(\"\\t\")\n",
    "        data.append((float(age), float(label)))\n",
    "\n",
    "# Split data into training and validation sets\n",
    "split_idx = int(len(data) * 0.8)\n",
    "train_data = data[:split_idx]\n",
    "val_data = data[split_idx:]\n",
    "\n",
    "# Define model, loss function, and optimizer\n",
    "model = AgeModel()\n",
    "criterion = nn.MSELoss()\n",
    "optimizer = optim.SGD(model.parameters(), lr=learning_rate)\n",
    "\n",
    "# Train the model\n",
    "for epoch in range(num_epochs):\n",
    "    # Shuffle training data\n",
    "    random.shuffle(train_data)\n",
    "\n",
    "    # Train on batches\n",
    "    for i in range(0, len(train_data), batch_size):\n",
    "        batch = train_data[i:i+batch_size]\n",
    "        x = torch.tensor([d[0] for d in batch]).reshape(-1, 1)\n",
    "        y = torch.tensor([d[1] for d in batch]).reshape(-1, 1)\n",
    "\n",
    "        optimizer.zero_grad()\n",
    "        outputs = model(x)\n",
    "        loss = criterion(outputs, y)\n",
    "        loss.backward()\n",
    "        optimizer.step()\n",
    "\n",
    "    # Compute validation loss\n",
    "    val_loss = 0\n",
    "    with torch.no_grad():\n",
    "        for i in range(0, len(val_data), batch_size):\n",
    "            batch = val_data[i:i+batch_size]\n",
    "            x = torch.tensor([d[0] for d in batch]).reshape(-1, 1)\n",
    "            y = torch.tensor([d[1] for d in batch]).reshape(-1, 1)\n",
    "\n",
    "            outputs = model(x)\n",
    "            val_loss += criterion(outputs, y).item()\n",
    "\n",
    "    # Print training and validation loss for the current epoch\n",
    "    epoch += 1\n",
    "    if epoch % 10 == 0:\n",
    "        print(\n",
    "            f\"Epoch {epoch}: Train Loss = {loss.item():.4f}, Val Loss = {val_loss/len(val_data):.4f}\")\n"
   ]
  },
  {
   "attachments": {},
   "cell_type": "markdown",
   "metadata": {},
   "source": [
    "Predict the age!"
   ]
  },
  {
   "cell_type": "code",
   "execution_count": null,
   "metadata": {},
   "outputs": [],
   "source": [
    "# Predict age based on user input\n",
    "age = float(input(\"Enter your age: \"))\n",
    "age = age / 100\n",
    "predicted_age = predict_age(model, age)\n",
    "predicted_age = predicted_age * 100\n",
    "print(f\"Predicted age: {predicted_age:.0f}\")\n"
   ]
  }
 ],
 "metadata": {
  "kernelspec": {
   "display_name": "Python 3",
   "language": "python",
   "name": "python3"
  },
  "language_info": {
   "codemirror_mode": {
    "name": "ipython",
    "version": 3
   },
   "file_extension": ".py",
   "mimetype": "text/x-python",
   "name": "python",
   "nbconvert_exporter": "python",
   "pygments_lexer": "ipython3",
   "version": "3.10.8"
  },
  "orig_nbformat": 4
 },
 "nbformat": 4,
 "nbformat_minor": 2
}
